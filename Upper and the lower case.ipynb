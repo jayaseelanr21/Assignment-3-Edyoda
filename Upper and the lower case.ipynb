{
 "cells": [
  {
   "cell_type": "code",
   "execution_count": 4,
   "id": "cc1c52d7",
   "metadata": {},
   "outputs": [
    {
     "name": "stdout",
     "output_type": "stream",
     "text": [
      "Count of upper char 3\n",
      "Count of lower char 11\n"
     ]
    }
   ],
   "source": [
    "def up_low(str):\n",
    "    u=0\n",
    "    l=0\n",
    "    for i in str:\n",
    "        if i.isupper():\n",
    "            u+=1\n",
    "        elif i.islower():\n",
    "            l+=1\n",
    "    print('Count of upper char',u)\n",
    "    print('Count of lower char',l)\n",
    "up_low('The quik Brow Fox')"
   ]
  },
  {
   "cell_type": "code",
   "execution_count": null,
   "id": "3d0784e7",
   "metadata": {},
   "outputs": [],
   "source": []
  }
 ],
 "metadata": {
  "kernelspec": {
   "display_name": "Python 3 (ipykernel)",
   "language": "python",
   "name": "python3"
  },
  "language_info": {
   "codemirror_mode": {
    "name": "ipython",
    "version": 3
   },
   "file_extension": ".py",
   "mimetype": "text/x-python",
   "name": "python",
   "nbconvert_exporter": "python",
   "pygments_lexer": "ipython3",
   "version": "3.9.7"
  }
 },
 "nbformat": 4,
 "nbformat_minor": 5
}
